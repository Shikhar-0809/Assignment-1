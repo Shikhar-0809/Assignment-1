{
  "nbformat": 4,
  "nbformat_minor": 0,
  "metadata": {
    "colab": {
      "provenance": []
    },
    "kernelspec": {
      "name": "python3",
      "display_name": "Python 3"
    },
    "language_info": {
      "name": "python"
    }
  },
  "cells": [
    {
      "cell_type": "markdown",
      "source": [
        "Question 1.1\n"
      ],
      "metadata": {
        "id": "XEhoIHrkOna5"
      }
    },
    {
      "cell_type": "code",
      "source": [
        "print(3*\" Shikhar \")"
      ],
      "metadata": {
        "colab": {
          "base_uri": "https://localhost:8080/"
        },
        "id": "SM1ZhRQlOrvQ",
        "outputId": "b1b83138-a35c-416f-bd7e-e713e2393ec1"
      },
      "execution_count": 1,
      "outputs": [
        {
          "output_type": "stream",
          "name": "stdout",
          "text": [
            "ShikharShikharShikhar\n"
          ]
        }
      ]
    },
    {
      "cell_type": "markdown",
      "source": [
        "Question 2.1\n"
      ],
      "metadata": {
        "id": "gw_v8SEzPnLH"
      }
    },
    {
      "cell_type": "code",
      "source": [
        "a=10\n",
        "b=20\n",
        "c=30\n",
        "d=a+b+c\n",
        "\n",
        "\n",
        "\n",
        "print(a,\"+\",b,\"+\",c,\"=\",d)"
      ],
      "metadata": {
        "colab": {
          "base_uri": "https://localhost:8080/"
        },
        "id": "Myk-Mdu_Pprv",
        "outputId": "604eab63-fa08-4835-a6e7-c49fb485ee0c"
      },
      "execution_count": 6,
      "outputs": [
        {
          "output_type": "stream",
          "name": "stdout",
          "text": [
            "10 + 20 + 30 = 60\n"
          ]
        }
      ]
    },
    {
      "cell_type": "markdown",
      "source": [
        "Question 2.2\n"
      ],
      "metadata": {
        "id": "iUF1U0N_QFSp"
      }
    },
    {
      "cell_type": "code",
      "source": [
        "a = \"Shikhar\"\n",
        "b = \"Kumar\"\n",
        "c=\"Sanjay\"\n",
        "d= a + str(b)+c\n",
        "print (a, \" + \", b,\"+\",c, \" --> \", d)\n"
      ],
      "metadata": {
        "colab": {
          "base_uri": "https://localhost:8080/"
        },
        "id": "SUVWnr84QG_P",
        "outputId": "8ab93ac1-65a0-4283-e279-99f8957dcb91"
      },
      "execution_count": 2,
      "outputs": [
        {
          "output_type": "stream",
          "name": "stdout",
          "text": [
            "Shikhar  +  Kumar + Sanjay  -->  ShikharKumarSanjay\n"
          ]
        }
      ]
    },
    {
      "cell_type": "markdown",
      "source": [
        "Question 4.1\n",
        "\n"
      ],
      "metadata": {
        "id": "jGb1NlR-QR9F"
      }
    },
    {
      "cell_type": "code",
      "source": [
        "\n",
        "for i in range(1,11):\n",
        "\tprint (7,\" * \", i , \" = \", i * 7)\n",
        "\n",
        "for i in range(1, 11):\n",
        "    print(9, \" * \", i, \" = \", i * 9 )\n"
      ],
      "metadata": {
        "colab": {
          "base_uri": "https://localhost:8080/"
        },
        "id": "RXuLwg-TQVHY",
        "outputId": "56cb3f70-8346-45ea-c14b-7d3076a3640d"
      },
      "execution_count": 5,
      "outputs": [
        {
          "output_type": "stream",
          "name": "stdout",
          "text": [
            "7  *  1  =  7\n",
            "7  *  2  =  14\n",
            "7  *  3  =  21\n",
            "7  *  4  =  28\n",
            "7  *  5  =  35\n",
            "7  *  6  =  42\n",
            "7  *  7  =  49\n",
            "7  *  8  =  56\n",
            "7  *  9  =  63\n",
            "7  *  10 =  70\n",
            "9  *  1  =  9\n",
            "9  *  2  =  18\n",
            "9  *  3  =  27\n",
            "9  *  4  =  36\n",
            "9  *  5  =  45\n",
            "9  *  6  =  54\n",
            "9  *  7  =  63\n",
            "9  *  8  =  72\n",
            "9  *  9  =  81\n",
            "9  *  10  =  90\n"
          ]
        }
      ]
    },
    {
      "cell_type": "markdown",
      "source": [
        "Question 4.2"
      ],
      "metadata": {
        "id": "0q7ew8YlQryb"
      }
    },
    {
      "cell_type": "code",
      "source": [
        "n=int(input('Enter n'))\n",
        "\n",
        "for i in range(1, 11):\n",
        "    print(n, \" * \", i, \" = \", i * n)\n",
        "\n",
        "\n",
        "\n"
      ],
      "metadata": {
        "colab": {
          "base_uri": "https://localhost:8080/"
        },
        "id": "5vnPyjgQQtYM",
        "outputId": "50be9b62-3c90-464e-af25-ec3601140f96"
      },
      "execution_count": 4,
      "outputs": [
        {
          "output_type": "stream",
          "name": "stdout",
          "text": [
            "Enter n : 4\n",
            "4  *  1  =  4\n",
            "4  *  2  =  8\n",
            "4  *  3  =  12\n",
            "4  *  4  =  16\n",
            "4  *  5  =  20\n",
            "4  *  6  =  24\n",
            "4  *  7  =  28\n",
            "4  *  8  =  32\n",
            "4  *  9  =  36\n",
            "4  *  10 =  40\n"
          ]
        }
      ]
    },
    {
      "cell_type": "markdown",
      "source": [
        "Question 4.3\n"
      ],
      "metadata": {
        "id": "uMz426sXRBk5"
      }
    },
    {
      "cell_type": "code",
      "source": [
        "n=int(input(\"Enter number till where sum is required : .\"))\n",
        "sum=0\n",
        "for i in range(1,n+1):\n",
        "  sum+=i\n",
        "\n",
        "print(\"Sum :  \",sum)"
      ],
      "metadata": {
        "colab": {
          "base_uri": "https://localhost:8080/"
        },
        "id": "3Hb-AIGPRE8c",
        "outputId": "a59a91a1-2f53-48c9-ee6f-2fddeb591238"
      },
      "execution_count": 7,
      "outputs": [
        {
          "output_type": "stream",
          "name": "stdout",
          "text": [
            "Enter number till where sum is required : 10\n",
            "Sum : 55\n"
          ]
        }
      ]
    },
    {
      "cell_type": "markdown",
      "source": [
        "Question 5.1\n"
      ],
      "metadata": {
        "id": "NBidLBfpRmBa"
      }
    },
    {
      "cell_type": "code",
      "source": [
        "a=input('Enter the first number.')\n",
        "b=input('Enter the second number.')\n",
        "c=input('Enter the third number.')\n",
        "\n",
        "\n",
        "\n",
        "print(\"Max of the three numbers is :\",max(a,b,c))"
      ],
      "metadata": {
        "colab": {
          "base_uri": "https://localhost:8080/"
        },
        "id": "OC_tnL76RsHc",
        "outputId": "2ed25b81-c1db-4514-ef88-11c5c8c50035"
      },
      "execution_count": 8,
      "outputs": [
        {
          "output_type": "stream",
          "name": "stdout",
          "text": [
            "Enter the first number.10\n",
            "Enter the second number.20\n",
            "Enter the third number.30\n",
            "Max of the three numbers is :30\n"
          ]
        }
      ]
    },
    {
      "cell_type": "markdown",
      "source": [
        "Question 5.2"
      ],
      "metadata": {
        "id": "kVZfhYNCRy3d"
      }
    },
    {
      "cell_type": "code",
      "source": [
        "n=int(input('Enter number till where sum is required :(multiple of 7 or 9):'))\n",
        "sum=0\n",
        "\n",
        "for i in range(1,n+1):\n",
        "    if i%7==0 or i%9==0:\n",
        "        sum=sum+i\n",
        "\n",
        "print(sum)"
      ],
      "metadata": {
        "colab": {
          "base_uri": "https://localhost:8080/"
        },
        "id": "cKCigrowRz9f",
        "outputId": "d4b75012-8ac1-4df6-b947-f5edba8da32c"
      },
      "execution_count": 9,
      "outputs": [
        {
          "output_type": "stream",
          "name": "stdout",
          "text": [
            "Enter number till where sum is required :(multiple of 7 or 9):10\n",
            "16\n"
          ]
        }
      ]
    },
    {
      "cell_type": "markdown",
      "source": [
        "Question 5.3"
      ],
      "metadata": {
        "id": "CeMplU6hR543"
      }
    },
    {
      "cell_type": "code",
      "source": [
        "def is_prime(num):\n",
        "    if num <= 1:\n",
        "        return False\n",
        "    for i in range(2, int(num ** 0.5) + 1):\n",
        "        if num % i == 0:\n",
        "            return False\n",
        "    return True\n",
        "\n",
        "def sum_of_primes(n):\n",
        "    sum = 0\n",
        "    for i in range(2, n + 1):\n",
        "        if is_prime(i):\n",
        "            sum += i\n",
        "    return sum\n",
        "\n",
        "n = int(input(\"Enter a number: \"))\n",
        "print(\"Sum of all prime numbers from 1 to\", n, \"is:\", sum_of_primes(n))\n"
      ],
      "metadata": {
        "colab": {
          "base_uri": "https://localhost:8080/"
        },
        "id": "GHuN-0q9R70i",
        "outputId": "a82458b3-038f-45c3-943c-a5833955d25a"
      },
      "execution_count": 10,
      "outputs": [
        {
          "output_type": "stream",
          "name": "stdout",
          "text": [
            "Enter a number: 10\n",
            "Sum of all prime numbers from 1 to 10 is: 17\n"
          ]
        }
      ]
    },
    {
      "cell_type": "markdown",
      "source": [
        "Question 6.1"
      ],
      "metadata": {
        "id": "etiaGCJFSJSG"
      }
    },
    {
      "cell_type": "code",
      "source": [
        "def sum_of_odds(n):\n",
        "  sum=0\n",
        "  for i in range(1,n+1):\n",
        "    if i%2!=0:\n",
        "      sum+=i\n",
        "  return sum\n",
        "\n",
        "\n",
        "n = int(input(\"Enter a number: \"))\n",
        "result = sum_of_odds(n)\n",
        "print(\"The sum of all odd numbers from 1 to \",n ,\"is\" ,result)\n"
      ],
      "metadata": {
        "colab": {
          "base_uri": "https://localhost:8080/"
        },
        "id": "IcFY7a2DSK2I",
        "outputId": "42e3feca-e90c-43aa-8200-92e2af7dfe2c"
      },
      "execution_count": 11,
      "outputs": [
        {
          "output_type": "stream",
          "name": "stdout",
          "text": [
            "Enter a number: 10\n",
            "The sum of all odd numbers from 1 to n is 25\n"
          ]
        }
      ]
    },
    {
      "cell_type": "markdown",
      "source": [
        "Question 6.2"
      ],
      "metadata": {
        "id": "rz_zfZ_KSwTE"
      }
    },
    {
      "cell_type": "code",
      "source": [
        "def is_prime(num):\n",
        "    if num <= 1:\n",
        "        return False\n",
        "    for i in range(2, int(num ** 0.5) + 1):\n",
        "        if num % i == 0:\n",
        "            return False\n",
        "    return True\n",
        "\n",
        "def sum_of_primes(n):\n",
        "    sum = 0\n",
        "    for i in range(2, n + 1):\n",
        "        if is_prime(i):\n",
        "            sum += i\n",
        "    return sum\n",
        "\n",
        "n = int(input(\"Enter a number: \"))\n",
        "result = sum_of_primes(n)\n",
        "print(\"The sum of all prime numbers from 1 to\", n, \"is\", result)\n",
        "\n"
      ],
      "metadata": {
        "id": "2CAIg0bqSzzN"
      },
      "execution_count": null,
      "outputs": []
    }
  ]
}
